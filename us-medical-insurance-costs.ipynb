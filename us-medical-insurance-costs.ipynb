{
 "cells": [
  {
   "cell_type": "code",
   "execution_count": 16,
   "metadata": {},
   "outputs": [],
   "source": [
    "#1 import data\n",
    "import csv"
   ]
  },
  {
   "cell_type": "code",
   "execution_count": 1,
   "metadata": {},
   "outputs": [],
   "source": [
    "#2 Load data from csv to lists\n",
    "ages = []\n",
    "sexes = []\n",
    "bmis = []\n",
    "num_children = []\n",
    "smoker_status = []\n",
    "regions = []\n",
    "insurance_cost = []\n",
    "\n",
    "def load_data(lst, column_name):\n",
    "    with open ('insurance.csv') as insurance_file:\n",
    "        insurance_data=csv.DictReader(insurance_file)\n",
    "        for row in insurance_data:\n",
    "            lst.append(row[column_name])\n",
    "        return lst\n"
   ]
  },
  {
   "cell_type": "code",
   "execution_count": 18,
   "metadata": {},
   "outputs": [],
   "source": [
    "def calculate_average(m):\n",
    "    total = 0\n",
    "    for item in m:\n",
    "        total += float(item)\n",
    "    average = total/len(m)\n",
    "    return average\n"
   ]
  },
  {
   "cell_type": "code",
   "execution_count": 19,
   "metadata": {},
   "outputs": [],
   "source": [
    "def load_insurance_cost_per_group(column_name, keyword, lst):\n",
    "    with open ('insurance.csv') as insurance_file:\n",
    "        insurance_data=csv.DictReader(insurance_file)\n",
    "        for row in insurance_data:\n",
    "            if row[column_name] == keyword:\n",
    "                lst.append(row['charges'])\n",
    "        return lst"
   ]
  },
  {
   "cell_type": "code",
   "execution_count": 20,
   "metadata": {},
   "outputs": [
    {
     "name": "stdout",
     "output_type": "stream",
     "text": [
      "Average age: 39.20702541106129\n"
     ]
    }
   ],
   "source": [
    "#3 calculate Average Age in dataset\n",
    "\n",
    "print('Average age: ' + str(calculate_average(ages)))"
   ]
  },
  {
   "cell_type": "code",
   "execution_count": 30,
   "metadata": {},
   "outputs": [
    {
     "name": "stdout",
     "output_type": "stream",
     "text": [
      "Average cost for Female: 12569.57884383534\n",
      "Average cost for Male: 13956.751177721886\n"
     ]
    }
   ],
   "source": [
    "#4 calculate Average Cost for each Sex Group\n",
    "\n",
    "female_cost = []\n",
    "\n",
    "male_cost = []\n",
    "\n",
    "\n",
    "print('Average cost for Female: ' + str(calculate_average(load_insurance_cost_per_group('sex', 'female', female_cost))))\n",
    "\n",
    "print('Average cost for Male: ' + str(calculate_average(load_insurance_cost_per_group('sex', 'male', male_cost))))"
   ]
  },
  {
   "cell_type": "code",
   "execution_count": 22,
   "metadata": {},
   "outputs": [
    {
     "name": "stdout",
     "output_type": "stream",
     "text": [
      "Average BMI: 30.663396860986538\n"
     ]
    }
   ],
   "source": [
    "#5 calculate Average BMI\n",
    "\n",
    "print('Average BMI: ' + str(calculate_average(bmis)))"
   ]
  },
  {
   "cell_type": "code",
   "execution_count": 23,
   "metadata": {},
   "outputs": [
    {
     "name": "stdout",
     "output_type": "stream",
     "text": [
      "Average insurance cost for 0 child group: 12365.975601635882\n",
      "Average insurance cost for 1 child group: 12731.171831635793\n",
      "Average insurance cost for 2 children group: 15073.563733958328\n",
      "Average insurance cost for 3 children group: 15355.31836681528\n",
      "Average insurance cost for 4 children group: 13850.656311199999\n",
      "Average insurance cost for 5 children group: 8786.035247222222\n"
     ]
    }
   ],
   "source": [
    "#6 find out which Children Group has higher insurance cost\n",
    "insurance_cost_children_0 = []\n",
    "insurance_cost_children_1 = []\n",
    "insurance_cost_children_2 = []\n",
    "insurance_cost_children_3 = []\n",
    "insurance_cost_children_4 = []\n",
    "insurance_cost_children_5 = []\n",
    "\n",
    "print('Average insurance cost for 0 child group: '+ str(calculate_average(load_insurance_cost_per_group('children','0', insurance_cost_children_0))))\n",
    "print('Average insurance cost for 1 child group: '+ str(calculate_average(load_insurance_cost_per_group('children','1', insurance_cost_children_1))))\n",
    "print('Average insurance cost for 2 children group: '+ str(calculate_average(load_insurance_cost_per_group('children','2', insurance_cost_children_2))))\n",
    "print('Average insurance cost for 3 children group: '+ str(calculate_average(load_insurance_cost_per_group('children','3', insurance_cost_children_3))))\n",
    "print('Average insurance cost for 4 children group: '+ str(calculate_average(load_insurance_cost_per_group('children','4', insurance_cost_children_4))))\n",
    "print('Average insurance cost for 5 children group: '+ str(calculate_average(load_insurance_cost_per_group('children','5', insurance_cost_children_5))))"
   ]
  },
  {
   "cell_type": "code",
   "execution_count": 25,
   "metadata": {},
   "outputs": [
    {
     "name": "stdout",
     "output_type": "stream",
     "text": [
      "Average insurance cost for smoker group: 32050.23183153285\n",
      "Average insurance cost for non-smoker group: 8434.268297856199\n"
     ]
    }
   ],
   "source": [
    "#7 Find out which Smoker Group has higher insurance cost\n",
    "insurance_cost_smoker_yes = []\n",
    "insurance_cost_smoker_no = []\n",
    "\n",
    "print('Average insurance cost for smoker group: '+ str(calculate_average(load_insurance_cost_per_group('smoker','yes',insurance_cost_smoker_yes))))\n",
    "print('Average insurance cost for non-smoker group: '+ str(calculate_average(load_insurance_cost_per_group('smoker','no',insurance_cost_smoker_no))))"
   ]
  },
  {
   "cell_type": "code",
   "execution_count": 29,
   "metadata": {},
   "outputs": [
    {
     "name": "stdout",
     "output_type": "stream",
     "text": [
      "['southwest', 'southeast', 'northwest', 'northeast']\n"
     ]
    }
   ],
   "source": [
    "#buffer step regions count\n",
    "region_count = []\n",
    "for region in regions:\n",
    "    if region not in region_count:\n",
    "        region_count.append(region)\n",
    "    else:\n",
    "        pass\n",
    "print(region_count)"
   ]
  },
  {
   "cell_type": "code",
   "execution_count": 28,
   "metadata": {},
   "outputs": [
    {
     "name": "stdout",
     "output_type": "stream",
     "text": [
      "Average insurance cost in southeast: 14735.411437609895\n",
      "Average insurance cost in southwest: 12346.93737729231\n",
      "Average insurance cost in northeast: 13406.3845163858\n",
      "Average insurance cost in northwest: 12417.575373969228\n"
     ]
    }
   ],
   "source": [
    "#8 Find out which Region has higher insurance cost\n",
    "insurance_cost_south_east = []\n",
    "insurance_cost_south_west = []\n",
    "insurance_cost_north_east = []\n",
    "insurance_cost_north_west = []\n",
    "print('Average insurance cost in southeast: '+ str(calculate_average(load_insurance_cost_per_group('region','southeast',insurance_cost_south_east))))\n",
    "print('Average insurance cost in southwest: '+ str(calculate_average(load_insurance_cost_per_group('region','southwest',insurance_cost_south_west))))\n",
    "print('Average insurance cost in northeast: '+ str(calculate_average(load_insurance_cost_per_group('region','northeast',insurance_cost_north_east))))\n",
    "print('Average insurance cost in northwest: '+ str(calculate_average(load_insurance_cost_per_group('region','northwest',insurance_cost_north_west))))"
   ]
  }
 ],
 "metadata": {
  "kernelspec": {
   "display_name": "Python 3 (ipykernel)",
   "language": "python",
   "name": "python3"
  },
  "language_info": {
   "codemirror_mode": {
    "name": "ipython",
    "version": 3
   },
   "file_extension": ".py",
   "mimetype": "text/x-python",
   "name": "python",
   "nbconvert_exporter": "python",
   "pygments_lexer": "ipython3",
   "version": "3.11.5"
  }
 },
 "nbformat": 4,
 "nbformat_minor": 4
}
